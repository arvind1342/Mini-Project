{
  "nbformat": 4,
  "nbformat_minor": 0,
  "metadata": {
    "colab": {
      "provenance": []
    },
    "kernelspec": {
      "name": "python3",
      "display_name": "Python 3"
    },
    "language_info": {
      "name": "python"
    }
  },
  "cells": [
    {
      "cell_type": "code",
      "source": [
        "import pandas as pd\n",
        "import numpy as np\n",
        "import re\n",
        "import string\n",
        "from sklearn.model_selection import train_test_split\n",
        "from sklearn.feature_extraction.text import TfidfVectorizer\n",
        "from sklearn.naive_bayes import MultinomialNB\n",
        "from sklearn.pipeline import make_pipeline\n",
        "from sklearn.metrics import classification_report\n",
        "\n",
        "# Load the dataset\n",
        "file_path = \"Articles.csv\"\n",
        "df = pd.read_csv(file_path, encoding=\"ISO-8859-1\")\n",
        "\n",
        "# Selecting relevant columns\n",
        "X = df[\"Article\"]  # Text data\n",
        "y = df[\"NewsType\"]  # Labels\n",
        "\n",
        "# Splitting dataset into training and testing\n",
        "X_train, X_test, y_train, y_test = train_test_split(X, y, test_size=0.2, random_state=42)\n",
        "\n",
        "# Text preprocessing and model pipeline\n",
        "model = make_pipeline(TfidfVectorizer(stop_words='english'), MultinomialNB())\n",
        "\n",
        "# Train the model\n",
        "model.fit(X_train, y_train)\n",
        "\n",
        "# Predict on test set\n",
        "y_pred = model.predict(X_test)\n",
        "\n",
        "# Print classification report\n",
        "print(\"Classification Report:\\n\", classification_report(y_test, y_pred))\n",
        "\n",
        "# Function to predict category of user input\n",
        "def predict_category(text):\n",
        "    prediction = model.predict([text])\n",
        "    return prediction[0]\n",
        "\n",
        "# Example user input\n",
        "user_input = input(\"Enter a news article: \")\n",
        "predicted_category = predict_category(user_input)\n",
        "print(\"Predicted Category:\", predicted_category)\n"
      ],
      "metadata": {
        "colab": {
          "base_uri": "https://localhost:8080/"
        },
        "id": "y_nU6c6Loo6j",
        "outputId": "7acf9feb-e1bf-4646-82ed-1734a4505196"
      },
      "execution_count": 1,
      "outputs": [
        {
          "output_type": "stream",
          "name": "stdout",
          "text": [
            "Classification Report:\n",
            "               precision    recall  f1-score   support\n",
            "\n",
            "    business       0.99      1.00      1.00       262\n",
            "      sports       1.00      0.99      1.00       277\n",
            "\n",
            "    accuracy                           1.00       539\n",
            "   macro avg       1.00      1.00      1.00       539\n",
            "weighted avg       1.00      1.00      1.00       539\n",
            "\n",
            "Enter a news article: Dhoni finishes off instyle\n",
            "Predicted Category: sports\n"
          ]
        }
      ]
    },
    {
      "cell_type": "code",
      "source": [],
      "metadata": {
        "id": "niFYOVEGgREj"
      },
      "execution_count": null,
      "outputs": []
    }
  ]
}