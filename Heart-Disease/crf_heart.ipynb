{
 "cells": [
  {
   "cell_type": "code",
   "execution_count": 1,
   "id": "2950d2ef-439c-4327-800f-b8a9d40bf518",
   "metadata": {},
   "outputs": [
    {
     "name": "stdout",
     "output_type": "stream",
     "text": [
      "Defaulting to user installation because normal site-packages is not writeable\n",
      "Requirement already satisfied: pandas in c:\\programdata\\anaconda3\\lib\\site-packages (2.2.2)\n",
      "Requirement already satisfied: scikit-learn in c:\\programdata\\anaconda3\\lib\\site-packages (1.5.1)\n",
      "Requirement already satisfied: numpy>=1.26.0 in c:\\programdata\\anaconda3\\lib\\site-packages (from pandas) (1.26.4)\n",
      "Requirement already satisfied: python-dateutil>=2.8.2 in c:\\programdata\\anaconda3\\lib\\site-packages (from pandas) (2.9.0.post0)\n",
      "Requirement already satisfied: pytz>=2020.1 in c:\\programdata\\anaconda3\\lib\\site-packages (from pandas) (2024.1)\n",
      "Requirement already satisfied: tzdata>=2022.7 in c:\\programdata\\anaconda3\\lib\\site-packages (from pandas) (2023.3)\n",
      "Requirement already satisfied: scipy>=1.6.0 in c:\\programdata\\anaconda3\\lib\\site-packages (from scikit-learn) (1.13.1)\n",
      "Requirement already satisfied: joblib>=1.2.0 in c:\\programdata\\anaconda3\\lib\\site-packages (from scikit-learn) (1.4.2)\n",
      "Requirement already satisfied: threadpoolctl>=3.1.0 in c:\\programdata\\anaconda3\\lib\\site-packages (from scikit-learn) (3.5.0)\n",
      "Requirement already satisfied: six>=1.5 in c:\\programdata\\anaconda3\\lib\\site-packages (from python-dateutil>=2.8.2->pandas) (1.16.0)\n",
      "Note: you may need to restart the kernel to use updated packages.\n"
     ]
    }
   ],
   "source": [
    "pip install pandas scikit-learn\n"
   ]
  },
  {
   "cell_type": "code",
   "execution_count": 5,
   "id": "4f58d403-b12c-41d1-84f0-4afa442f6f4e",
   "metadata": {},
   "outputs": [
    {
     "name": "stdout",
     "output_type": "stream",
     "text": [
      "Columns in dataset: Index(['Age', 'Sex', 'ChestPainType', 'RestingBP', 'Cholesterol', 'FastingBS',\n",
      "       'RestingECG', 'MaxHR', 'ExerciseAngina', 'Oldpeak', 'ST_Slope',\n",
      "       'HeartDisease'],\n",
      "      dtype='object')\n",
      "Classification Report:\n",
      "               precision    recall  f1-score   support\n",
      "\n",
      "           0       0.78      0.88      0.83        77\n",
      "           1       0.91      0.82      0.86       107\n",
      "\n",
      "    accuracy                           0.85       184\n",
      "   macro avg       0.84      0.85      0.85       184\n",
      "weighted avg       0.85      0.85      0.85       184\n",
      "\n",
      "\n",
      "Enter patient details for prediction:\n"
     ]
    },
    {
     "name": "stdin",
     "output_type": "stream",
     "text": [
      "Enter Age:  45\n",
      "Enter Sex (Male/Female):  F\n",
      "Enter Chest Pain Type (Typical Angina, Atypical Angina, Non-Anginal Pain, Asymptomatic):  ATA\n",
      "Enter Resting Blood Pressure (in mm Hg):  150\n",
      "Enter Serum Cholesterol (in mg/dl):  140\n",
      "Fasting Blood Sugar > 120 mg/dl (Yes: 1, No: 0):  0\n",
      "Enter Resting ECG results (Normal, ST-T wave abnormality, Left Ventricular Hypertrophy):  Normal\n",
      "Enter Maximum Heart Rate Achieved:  140\n",
      "Exercise Induced Angina (Yes/No):  Y\n",
      "Enter ST depression induced by exercise:  5\n",
      "Enter the slope of the peak exercise ST segment (Up, Flat, Down):  Up\n"
     ]
    },
    {
     "name": "stdout",
     "output_type": "stream",
     "text": [
      "\n",
      "Prediction: The patient is likely to have Heart Disease.\n"
     ]
    }
   ],
   "source": [
    "import pandas as pd\n",
    "import numpy as np\n",
    "from sklearn.model_selection import train_test_split\n",
    "from sklearn.preprocessing import LabelEncoder, StandardScaler\n",
    "from sklearn.linear_model import LogisticRegression\n",
    "from sklearn.metrics import classification_report\n",
    "\n",
    "# Load dataset from GitHub\n",
    "url = 'https://raw.githubusercontent.com/AKRITI-07/mini_project/main/heart.csv'\n",
    "df = pd.read_csv(url)\n",
    "\n",
    "# Display column names\n",
    "print(\"Columns in dataset:\", df.columns)\n",
    "\n",
    "# Identify categorical columns\n",
    "categorical_columns = ['Sex', 'ChestPainType', 'RestingECG', 'ExerciseAngina', 'ST_Slope']\n",
    "\n",
    "# Initialize LabelEncoders for categorical data\n",
    "label_encoders = {}\n",
    "for col in categorical_columns:\n",
    "    le = LabelEncoder()\n",
    "    df[col] = le.fit_transform(df[col])\n",
    "    label_encoders[col] = le  # Store encoders for decoding predictions\n",
    "\n",
    "# Define features and target variable\n",
    "X = df.drop(columns=['HeartDisease'])  # Features\n",
    "y = df['HeartDisease']  # Target variable\n",
    "\n",
    "# Standardize numerical features (recommended for logistic regression)\n",
    "scaler = StandardScaler()\n",
    "X[X.columns] = scaler.fit_transform(X)\n",
    "\n",
    "# Split dataset into training and testing sets\n",
    "X_train, X_test, y_train, y_test = train_test_split(X, y, test_size=0.2, random_state=42)\n",
    "\n",
    "# Train the Maximum Entropy (Logistic Regression) model\n",
    "model = LogisticRegression(max_iter=1000)  # Using logistic regression as MaxEnt model\n",
    "model.fit(X_train, y_train)\n",
    "\n",
    "# Make predictions on the test set\n",
    "y_pred = model.predict(X_test)\n",
    "\n",
    "# Generate classification report\n",
    "print(\"Classification Report:\\n\", classification_report(y_test, y_pred))\n",
    "\n",
    "# Function to take user input and predict heart disease\n",
    "def predict_heart_disease():\n",
    "    print(\"\\nEnter patient details for prediction:\")\n",
    "    \n",
    "    # User Inputs\n",
    "    age = int(input(\"Enter Age: \"))\n",
    "    sex = input(\"Enter Sex (Male/Female): \")\n",
    "    chest_pain = input(\"Enter Chest Pain Type (Typical Angina, Atypical Angina, Non-Anginal Pain, Asymptomatic): \")\n",
    "    resting_bp = float(input(\"Enter Resting Blood Pressure (in mm Hg): \"))\n",
    "    cholesterol = float(input(\"Enter Serum Cholesterol (in mg/dl): \"))\n",
    "    fasting_bs = int(input(\"Fasting Blood Sugar > 120 mg/dl (Yes: 1, No: 0): \"))\n",
    "    resting_ecg = input(\"Enter Resting ECG results (Normal, ST-T wave abnormality, Left Ventricular Hypertrophy): \")\n",
    "    max_hr = int(input(\"Enter Maximum Heart Rate Achieved: \"))\n",
    "    exercise_angina = input(\"Exercise Induced Angina (Yes/No): \")\n",
    "    oldpeak = float(input(\"Enter ST depression induced by exercise: \"))\n",
    "    st_slope = input(\"Enter the slope of the peak exercise ST segment (Up, Flat, Down): \")\n",
    "\n",
    "    # Encode categorical inputs\n",
    "    sex_encoded = label_encoders['Sex'].transform([sex])[0]\n",
    "    chest_pain_encoded = label_encoders['ChestPainType'].transform([chest_pain])[0]\n",
    "    resting_ecg_encoded = label_encoders['RestingECG'].transform([resting_ecg])[0]\n",
    "    exercise_angina_encoded = label_encoders['ExerciseAngina'].transform([exercise_angina])[0]\n",
    "    st_slope_encoded = label_encoders['ST_Slope'].transform([st_slope])[0]\n",
    "\n",
    "    # Create input dataframe\n",
    "    user_data = pd.DataFrame([[age, sex_encoded, chest_pain_encoded, resting_bp, cholesterol, fasting_bs, \n",
    "                               resting_ecg_encoded, max_hr, exercise_angina_encoded, oldpeak, st_slope_encoded]],\n",
    "                              columns=X.columns)\n",
    "\n",
    "    # Standardize input data\n",
    "    user_data[X.columns] = scaler.transform(user_data)\n",
    "\n",
    "    # Make prediction\n",
    "    prediction = model.predict(user_data)[0]\n",
    "\n",
    "    # Display result\n",
    "    if prediction == 1:\n",
    "        print(\"\\nPrediction: The patient is likely to have Heart Disease.\")\n",
    "    else:\n",
    "        print(\"\\nPrediction: The patient is unlikely to have Heart Disease.\")\n",
    "\n",
    "# Call function to take user input and make prediction\n",
    "predict_heart_disease()\n"
   ]
  },
  {
   "cell_type": "code",
   "execution_count": null,
   "id": "a24dab6e-8338-40f9-9347-535c8bcb37be",
   "metadata": {},
   "outputs": [],
   "source": []
  }
 ],
 "metadata": {
  "kernelspec": {
   "display_name": "Python 3 (ipykernel)",
   "language": "python",
   "name": "python3"
  },
  "language_info": {
   "codemirror_mode": {
    "name": "ipython",
    "version": 3
   },
   "file_extension": ".py",
   "mimetype": "text/x-python",
   "name": "python",
   "nbconvert_exporter": "python",
   "pygments_lexer": "ipython3",
   "version": "3.12.7"
  }
 },
 "nbformat": 4,
 "nbformat_minor": 5
}
