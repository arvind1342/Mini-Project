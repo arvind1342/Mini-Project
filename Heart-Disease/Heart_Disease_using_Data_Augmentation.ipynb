{
  "nbformat": 4,
  "nbformat_minor": 0,
  "metadata": {
    "colab": {
      "provenance": []
    },
    "kernelspec": {
      "name": "python3",
      "display_name": "Python 3"
    },
    "language_info": {
      "name": "python"
    }
  },
  "cells": [
    {
      "cell_type": "code",
      "execution_count": 4,
      "metadata": {
        "colab": {
          "base_uri": "https://localhost:8080/"
        },
        "id": "6ETXz9G9b_JZ",
        "outputId": "3808862b-cca6-4e83-8235-1aec3d086d96"
      },
      "outputs": [
        {
          "output_type": "stream",
          "name": "stdout",
          "text": [
            "Classification Report:\n",
            "              precision    recall  f1-score   support\n",
            "\n",
            "           0       0.82      0.80      0.81        88\n",
            "           1       0.85      0.87      0.86       116\n",
            "\n",
            "    accuracy                           0.84       204\n",
            "   macro avg       0.84      0.83      0.83       204\n",
            "weighted avg       0.84      0.84      0.84       204\n",
            "\n",
            "Enter the following details:\n",
            "Age: 96\n",
            "RestingBP: 134\n",
            "Cholesterol: 189\n",
            "FastingBS: 123\n",
            "MaxHR: 100\n",
            "Oldpeak: 2\n",
            "Sex_F: 0\n",
            "Sex_M: 1\n",
            "ChestPainType_ASY: 2\n",
            "ChestPainType_ATA: 3\n",
            "ChestPainType_NAP: 1\n",
            "ChestPainType_TA: 2\n",
            "RestingECG_LVH: 4\n",
            "RestingECG_Normal: 2\n",
            "RestingECG_ST: 3\n",
            "ExerciseAngina_N: 1\n",
            "ExerciseAngina_Y: 4\n",
            "ST_Slope_Down: 1\n",
            "ST_Slope_Flat: 4\n",
            "ST_Slope_Up: 1\n",
            "Predicted Diagnosis: Heart Disease\n",
            "Confidence: 100.00%\n"
          ]
        }
      ],
      "source": [
        "import pandas as pd\n",
        "import numpy as np\n",
        "from sklearn.model_selection import train_test_split\n",
        "from sklearn.preprocessing import StandardScaler\n",
        "from imblearn.over_sampling import SMOTE\n",
        "from sklearn.svm import SVC\n",
        "from sklearn.metrics import classification_report\n",
        "\n",
        "# Load the dataset\n",
        "file_path = \"heart.csv\"\n",
        "df = pd.read_csv(file_path)\n",
        "\n",
        "# Encode categorical variables\n",
        "categorical_cols = ['Sex', 'ChestPainType', 'RestingECG', 'ExerciseAngina', 'ST_Slope']\n",
        "df = pd.get_dummies(df, columns=categorical_cols)\n",
        "\n",
        "# Split data into features and target\n",
        "X = df.drop(\"HeartDisease\", axis=1)\n",
        "y = df[\"HeartDisease\"]\n",
        "\n",
        "# Normalize numerical features\n",
        "scaler = StandardScaler()\n",
        "X_scaled = scaler.fit_transform(X)\n",
        "\n",
        "# Apply SMOTE for data augmentation\n",
        "smote = SMOTE(random_state=42)\n",
        "X_resampled, y_resampled = smote.fit_resample(X_scaled, y)\n",
        "\n",
        "# Split the dataset into training and testing sets\n",
        "X_train, X_test, y_train, y_test = train_test_split(X_resampled, y_resampled, test_size=0.2, random_state=42)\n",
        "\n",
        "# Train an SVM model\n",
        "svm_model = SVC(kernel='linear', probability=True)\n",
        "svm_model.fit(X_train, y_train)\n",
        "\n",
        "# Evaluate the model\n",
        "y_pred = svm_model.predict(X_test)\n",
        "print(\"Classification Report:\")\n",
        "print(classification_report(y_test, y_pred))\n",
        "\n",
        "# Function to classify new patient data\n",
        "def classify_patient(data):\n",
        "    data_df = pd.DataFrame([data], columns=X.columns)\n",
        "    data_scaled = scaler.transform(data_df)\n",
        "    prediction = svm_model.predict(data_scaled)\n",
        "    probability = svm_model.predict_proba(data_scaled)[0]\n",
        "    return \"Heart Disease\" if prediction[0] == 1 else \"No Heart Disease\", probability\n",
        "\n",
        "# Take user input\n",
        "print(\"Enter the following details:\")\n",
        "user_data = {}\n",
        "for col in X.columns:\n",
        "    user_data[col] = float(input(f\"{col}: \"))\n",
        "\n",
        "prediction, probability = classify_patient(user_data)\n",
        "print(f\"Predicted Diagnosis: {prediction}\")\n",
        "print(f\"Confidence: {max(probability) * 100:.2f}%\")\n"
      ]
    },
    {
      "cell_type": "code",
      "source": [],
      "metadata": {
        "id": "XpD4vzaOc6Jv"
      },
      "execution_count": null,
      "outputs": []
    }
  ]
}