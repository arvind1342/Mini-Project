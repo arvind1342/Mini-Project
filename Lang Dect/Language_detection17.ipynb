{
  "cells": [
    {
      "cell_type": "markdown",
      "metadata": {
        "id": "view-in-github",
        "colab_type": "text"
      },
      "source": [
        "<a href=\"https://colab.research.google.com/github/YashiGarg016/Language-Detection/blob/main/Language_detection17.ipynb\" target=\"_parent\"><img src=\"https://colab.research.google.com/assets/colab-badge.svg\" alt=\"Open In Colab\"/></a>"
      ]
    },
    {
      "cell_type": "code",
      "source": [
        "# prompt: classify all this data into different languages using SVM classifier. Also predict the language when the user provides an input. Generate classification report of the classifier as well.\n",
        "# 17 languages\n",
        "from sklearn.model_selection import train_test_split\n",
        "from sklearn.svm import SVC\n",
        "from sklearn.metrics import classification_report\n",
        "import numpy as np\n",
        "import pandas as pd\n",
        "from sklearn.feature_extraction.text import CountVectorizer\n",
        "from sklearn.preprocessing import LabelEncoder\n",
        "\n",
        "# Load the dataset\n",
        "df = pd.read_csv('https://raw.githubusercontent.com/YashiGarg016/Language-Detection/refs/heads/main/Language%20Detection.csv')\n",
        "\n",
        "# Prepare the data\n",
        "X = df['Text']\n",
        "y = df['Language']\n",
        "\n",
        "# Split data into training and testing sets\n",
        "X_train, X_test, y_train, y_test = train_test_split(X, y, test_size=0.2, random_state=42)\n",
        "\n",
        "# Create and fit the CountVectorizer with character n-grams\n",
        "vectorizer = CountVectorizer(ngram_range=(1, 3), analyzer='char')\n",
        "X_train_vec = vectorizer.fit_transform(X_train)\n",
        "X_test_vec = vectorizer.transform(X_test)\n",
        "\n",
        "# Encode language labels\n",
        "label_encoder = LabelEncoder()\n",
        "y_train_encoded = label_encoder.fit_transform(y_train)\n",
        "y_test_encoded = label_encoder.transform(y_test)\n",
        "\n",
        "# Train the SVM classifier\n",
        "svm_classifier = SVC(kernel='linear', C=1) # You can tune hyperparameters like C\n",
        "svm_classifier.fit(X_train_vec, y_train_encoded)\n",
        "\n",
        "# Make predictions\n",
        "y_pred_encoded = svm_classifier.predict(X_test_vec)\n",
        "y_pred = label_encoder.inverse_transform(y_pred_encoded)\n",
        "\n",
        "# Evaluate the model\n",
        "print(classification_report(y_test, y_pred))\n",
        "\n",
        "# Function to predict language for new input\n",
        "def predict_language(text):\n",
        "    text_vec = vectorizer.transform([text])\n",
        "    predicted_language_encoded = svm_classifier.predict(text_vec)\n",
        "    predicted_language = label_encoder.inverse_transform(predicted_language_encoded)[0]\n",
        "    return predicted_language\n",
        "\n",
        "# Example usage\n",
        "input_text = \"यह एक हिंदी वाक्य है\"\n",
        "predicted_lang = predict_language(input_text)\n",
        "print(f\"The predicted language for '{input_text}' is: {predicted_lang}\")\n",
        "\n",
        "input_text = \"Ceci est une phrase française.\"\n",
        "predicted_lang = predict_language(input_text)\n",
        "print(f\"The predicted language for '{input_text}' is: {predicted_lang}\")\n"
      ],
      "metadata": {
        "colab": {
          "base_uri": "https://localhost:8080/"
        },
        "id": "vzCy2ivsUoYm",
        "outputId": "9fcd4497-b923-4684-d331-cf5786136a02"
      },
      "execution_count": 1,
      "outputs": [
        {
          "output_type": "stream",
          "name": "stdout",
          "text": [
            "              precision    recall  f1-score   support\n",
            "\n",
            "      Arabic       0.98      0.99      0.99       106\n",
            "      Danish       0.85      0.93      0.89        73\n",
            "       Dutch       0.92      0.97      0.95       111\n",
            "     English       0.96      0.98      0.97       291\n",
            "      French       0.98      0.94      0.96       219\n",
            "      German       0.94      0.91      0.93        93\n",
            "       Greek       1.00      0.99      0.99        68\n",
            "       Hindi       1.00      1.00      1.00        10\n",
            "     Italian       0.94      0.93      0.94       145\n",
            "     Kannada       1.00      1.00      1.00        66\n",
            "   Malayalam       1.00      0.99      1.00       121\n",
            "  Portugeese       0.95      0.97      0.96       144\n",
            "     Russian       1.00      0.99      1.00       136\n",
            "     Spanish       0.94      0.92      0.93       160\n",
            "    Sweedish       0.97      0.92      0.95       133\n",
            "       Tamil       1.00      1.00      1.00        87\n",
            "     Turkish       0.94      0.98      0.96       105\n",
            "\n",
            "    accuracy                           0.96      2068\n",
            "   macro avg       0.96      0.97      0.96      2068\n",
            "weighted avg       0.96      0.96      0.96      2068\n",
            "\n",
            "The predicted language for 'यह एक हिंदी वाक्य है' is: Hindi\n",
            "The predicted language for 'Ceci est une phrase française.' is: French\n"
          ]
        }
      ]
    }
  ],
  "metadata": {
    "colab": {
      "provenance": [],
      "authorship_tag": "ABX9TyO0TDFuDMPLwr0tbatHLeiF",
      "include_colab_link": true
    },
    "kernelspec": {
      "display_name": "Python 3",
      "name": "python3"
    },
    "language_info": {
      "name": "python"
    }
  },
  "nbformat": 4,
  "nbformat_minor": 0
}