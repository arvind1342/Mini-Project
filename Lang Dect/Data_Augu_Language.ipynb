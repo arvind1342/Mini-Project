{
 "cells": [
  {
   "cell_type": "code",
   "execution_count": null,
   "id": "397ac235-ca5a-42e6-99b6-920108e55585",
   "metadata": {},
   "outputs": [
    {
     "name": "stdout",
     "output_type": "stream",
     "text": [
      "                                                Text Language\n",
      "0   Nature, in the broadest sense, is the natural...  English\n",
      "1  \"Nature\" can refer to the phenomena of the phy...  English\n",
      "2  The study of nature is a large, if not the onl...  English\n",
      "3  Although humans are part of nature, human acti...  English\n",
      "4  [1] The word nature is borrowed from the Old F...  English\n",
      "Epoch 1/5\n"
     ]
    },
    {
     "name": "stderr",
     "output_type": "stream",
     "text": [
      "D:\\python\\Lib\\site-packages\\keras\\src\\layers\\core\\embedding.py:90: UserWarning: Argument `input_length` is deprecated. Just remove it.\n",
      "  warnings.warn(\n"
     ]
    },
    {
     "name": "stdout",
     "output_type": "stream",
     "text": [
      "\u001b[1m259/259\u001b[0m \u001b[32m━━━━━━━━━━━━━━━━━━━━\u001b[0m\u001b[37m\u001b[0m \u001b[1m20s\u001b[0m 68ms/step - accuracy: 0.3037 - loss: 2.2947 - val_accuracy: 0.9009 - val_loss: 0.5821\n",
      "Epoch 2/5\n",
      "\u001b[1m259/259\u001b[0m \u001b[32m━━━━━━━━━━━━━━━━━━━━\u001b[0m\u001b[37m\u001b[0m \u001b[1m0s\u001b[0m 107ms/step - accuracy: 0.8951 - loss: 0.4710"
     ]
    }
   ],
   "source": [
    "import pandas as pd\n",
    "import numpy as np\n",
    "import random\n",
    "import nltk\n",
    "from nltk.corpus import wordnet\n",
    "from sklearn.model_selection import train_test_split\n",
    "from tensorflow.keras.preprocessing.text import Tokenizer\n",
    "from tensorflow.keras.preprocessing.sequence import pad_sequences\n",
    "from tensorflow.keras.models import Sequential, load_model\n",
    "from tensorflow.keras.layers import Embedding, LSTM, Dense, SpatialDropout1D\n",
    "from tensorflow.keras.utils import to_categorical\n",
    "\n",
    "# Load dataset\n",
    "url = \"https://raw.githubusercontent.com/YashiGarg016/Language-Detection/refs/heads/main/Language%20Detection.csv\"\n",
    "df = pd.read_csv(url)\n",
    "print(df.head())\n",
    "\n",
    "# Data Preprocessing\n",
    "def augment_text(text):\n",
    "    words = text.split()\n",
    "    augmented_words = []\n",
    "    for word in words:\n",
    "        synonyms = wordnet.synsets(word)\n",
    "        if synonyms:\n",
    "            synonym = synonyms[0].lemmas()[0].name()\n",
    "            augmented_words.append(synonym)\n",
    "        else:\n",
    "            augmented_words.append(word)\n",
    "    return ' '.join(augmented_words)\n",
    "\n",
    "# Apply augmentation to a subset of data\n",
    "df['Augmented_Text'] = df['Text'].apply(lambda x: augment_text(x) if random.random() < 0.3 else x)\n",
    "\n",
    "# Convert text labels to numerical labels\n",
    "labels = {label: i for i, label in enumerate(df['Language'].unique())}\n",
    "reverse_labels = {i: label for label, i in labels.items()}\n",
    "df['Label'] = df['Language'].map(labels)\n",
    "\n",
    "# Tokenization\n",
    "max_words = 5000\n",
    "max_len = 100\n",
    "tokenizer = Tokenizer(num_words=max_words, lower=True)\n",
    "tokenizer.fit_on_texts(df['Augmented_Text'])\n",
    "X = tokenizer.texts_to_sequences(df['Augmented_Text'])\n",
    "X = pad_sequences(X, maxlen=max_len)\n",
    "y = to_categorical(df['Label'])\n",
    "\n",
    "# Train-test split\n",
    "X_train, X_test, y_train, y_test = train_test_split(X, y, test_size=0.2, random_state=42)\n",
    "\n",
    "# Model Building\n",
    "model = Sequential([\n",
    "    Embedding(max_words, 100, input_length=max_len),\n",
    "    SpatialDropout1D(0.2),\n",
    "    LSTM(100, dropout=0.2, recurrent_dropout=0.2),\n",
    "    Dense(len(labels), activation='softmax')\n",
    "])\n",
    "\n",
    "model.compile(loss='categorical_crossentropy', optimizer='adam', metrics=['accuracy'])\n",
    "\n",
    "# Train Model\n",
    "model.fit(X_train, y_train, epochs=5, batch_size=32, validation_data=(X_test, y_test))\n",
    "\n",
    "# Evaluate Model\n",
    "loss, accuracy = model.evaluate(X_test, y_test)\n",
    "print(f\"Test Accuracy: {accuracy:.2f}\")\n",
    "\n",
    "# Prediction Function\n",
    "def predict_language(text):\n",
    "    sequence = tokenizer.texts_to_sequences([text])\n",
    "    padded_sequence = pad_sequences(sequence, maxlen=max_len)\n",
    "    prediction = model.predict(padded_sequence)\n",
    "    predicted_label = np.argmax(prediction)\n",
    "    return reverse_labels[predicted_label]\n"
   ]
  },
  {
   "cell_type": "code",
   "execution_count": null,
   "id": "499b518f-fa11-450b-aea4-d4648f438514",
   "metadata": {},
   "outputs": [],
   "source": [
    "# Example Usage\n",
    "sample_text = \"Hola, ¿cómo estás?\"\n",
    "predicted_language = predict_language(sample_text)\n",
    "print(f\"Predicted Language: {predicted_language}\")"
   ]
  }
 ],
 "metadata": {
  "kernelspec": {
   "display_name": "Python 3 (ipykernel)",
   "language": "python",
   "name": "python3"
  },
  "language_info": {
   "codemirror_mode": {
    "name": "ipython",
    "version": 3
   },
   "file_extension": ".py",
   "mimetype": "text/x-python",
   "name": "python",
   "nbconvert_exporter": "python",
   "pygments_lexer": "ipython3",
   "version": "3.12.7"
  }
 },
 "nbformat": 4,
 "nbformat_minor": 5
}
