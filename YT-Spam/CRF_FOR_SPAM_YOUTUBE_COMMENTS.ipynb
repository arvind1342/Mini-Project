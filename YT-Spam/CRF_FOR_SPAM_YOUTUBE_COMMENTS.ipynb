{
  "nbformat": 4,
  "nbformat_minor": 0,
  "metadata": {
    "colab": {
      "provenance": []
    },
    "kernelspec": {
      "name": "python3",
      "display_name": "Python 3"
    },
    "language_info": {
      "name": "python"
    }
  },
  "cells": [
    {
      "cell_type": "code",
      "execution_count": 2,
      "metadata": {
        "colab": {
          "base_uri": "https://localhost:8080/"
        },
        "id": "avxhKy-clD2u",
        "outputId": "b8ed12eb-e933-4050-e26e-ee7e79714ea5"
      },
      "outputs": [
        {
          "output_type": "stream",
          "name": "stdout",
          "text": [
            "Classification Report:\n",
            "               precision    recall  f1-score   support\n",
            "\n",
            "           0       0.92      0.97      0.94        35\n",
            "           1       0.97      0.91      0.94        35\n",
            "\n",
            "    accuracy                           0.94        70\n",
            "   macro avg       0.94      0.94      0.94        70\n",
            "weighted avg       0.94      0.94      0.94        70\n",
            "\n",
            "Enter a comment: This video is amazing! I learned so much. Keep up the great work!\n",
            "Predicted Class: 0\n"
          ]
        }
      ],
      "source": [
        "import pandas as pd\n",
        "from sklearn.model_selection import train_test_split\n",
        "from sklearn.feature_extraction.text import TfidfVectorizer\n",
        "from sklearn.naive_bayes import MultinomialNB\n",
        "from sklearn.pipeline import make_pipeline\n",
        "from sklearn.metrics import classification_report\n",
        "\n",
        "# Load dataset\n",
        "def load_data(file_path):\n",
        "    df = pd.read_csv(file_path)\n",
        "    df = df.dropna(subset=['CONTENT', 'CLASS'])  # Ensure no missing values\n",
        "    return df['CONTENT'], df['CLASS']\n",
        "\n",
        "# Train a Naïve Bayes classifier\n",
        "def train_text_classifier(X, y):\n",
        "    X_train, X_test, y_train, y_test = train_test_split(X, y, test_size=0.2, random_state=42, stratify=y)\n",
        "    model = make_pipeline(TfidfVectorizer(stop_words='english', max_features=5000), MultinomialNB())\n",
        "    model.fit(X_train, y_train)\n",
        "\n",
        "    # Evaluate model\n",
        "    y_pred = model.predict(X_test)\n",
        "    print(\"Classification Report:\\n\", classification_report(y_test, y_pred))\n",
        "\n",
        "    return model\n",
        "\n",
        "# Predict class for a new comment\n",
        "def predict_class(model, comment):\n",
        "    return model.predict([comment])[0]\n",
        "\n",
        "if __name__ == \"__main__\":\n",
        "    file_path = \"Youtube01-Psy.csv\"  # Update with the correct path\n",
        "    X, y = load_data(file_path)\n",
        "    model = train_text_classifier(X, y)\n",
        "\n",
        "    # User input\n",
        "    user_comment = input(\"Enter a comment: \")\n",
        "    predicted_class = predict_class(model, user_comment)\n",
        "    print(f\"Predicted Class: {predicted_class}\")\n"
      ]
    },
    {
      "cell_type": "code",
      "source": [],
      "metadata": {
        "id": "_TpHHdKOlyyc"
      },
      "execution_count": null,
      "outputs": []
    }
  ]
}