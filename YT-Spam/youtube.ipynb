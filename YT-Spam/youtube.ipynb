{
 "cells": [
  {
   "cell_type": "code",
   "execution_count": 7,
   "id": "0474d0f1-91af-407a-8808-255ee4e94e85",
   "metadata": {},
   "outputs": [
    {
     "name": "stdout",
     "output_type": "stream",
     "text": [
      "Columns in dataset: Index(['COMMENT_ID', 'AUTHOR', 'DATE', 'CONTENT', 'CLASS'], dtype='object')\n",
      "              precision    recall  f1-score   support\n",
      "\n",
      "           0       0.96      1.00      0.98        27\n",
      "           1       1.00      0.98      0.99        43\n",
      "\n",
      "    accuracy                           0.99        70\n",
      "   macro avg       0.98      0.99      0.99        70\n",
      "weighted avg       0.99      0.99      0.99        70\n",
      "\n"
     ]
    },
    {
     "name": "stdin",
     "output_type": "stream",
     "text": [
      "Enter a text to classify:  I told my computer I needed a break, and now it won't stop sending me to websites about cookies\n"
     ]
    },
    {
     "name": "stdout",
     "output_type": "stream",
     "text": [
      "Prediction: Spam\n"
     ]
    }
   ],
   "source": [
    "import pandas as pd\n",
    "from sklearn.feature_extraction.text import CountVectorizer\n",
    "from sklearn.model_selection import train_test_split\n",
    "from sklearn.linear_model import LogisticRegression\n",
    "from sklearn.metrics import classification_report\n",
    "\n",
    "# Load dataset\n",
    "data = pd.read_csv('Youtube01-Psy.csv')\n",
    "\n",
    "# Print column names to verify\n",
    "print(\"Columns in dataset:\", data.columns)\n",
    "\n",
    "# Ensure correct column names\n",
    "text_column = 'CONTENT'  # Replace with actual column name\n",
    "label_column = 'CLASS'   # Replace with actual column name\n",
    "\n",
    "df = pd.DataFrame(data)\n",
    "\n",
    "# Create a bag-of-words representation of the text\n",
    "vectorizer = CountVectorizer()\n",
    "X = vectorizer.fit_transform(df[text_column])  # Use correct column\n",
    "y = df[label_column]  # Use correct column\n",
    "\n",
    "# Split the data into training and testing sets\n",
    "X_train, X_test, y_train, y_test = train_test_split(X, y, test_size=0.2, random_state=42)\n",
    "\n",
    "# Train a Maximum Entropy (Logistic Regression) model\n",
    "model = LogisticRegression(max_iter=1000)\n",
    "model.fit(X_train, y_train)\n",
    "\n",
    "# Make predictions on the test set\n",
    "y_pred = model.predict(X_test)\n",
    "\n",
    "# Generate a classification report\n",
    "print(classification_report(y_test, y_pred))\n",
    "\n",
    "def predict_spam(text):\n",
    "    \"\"\"Predicts whether a given text is spam or not.\"\"\"\n",
    "    text_vectorized = vectorizer.transform([text])\n",
    "    prediction = model.predict(text_vectorized)[0]\n",
    "    return \"Spam\" if prediction == 1 else \"No spam\"\n",
    "\n",
    "# Get user input\n",
    "user_input = input(\"Enter a text to classify: \")\n",
    "result = predict_spam(user_input)\n",
    "print(\"Prediction:\", result)\n"
   ]
  },
  {
   "cell_type": "code",
   "execution_count": null,
   "id": "15d0c5c5-6b68-4a56-b275-bfa55ee8a36c",
   "metadata": {},
   "outputs": [],
   "source": []
  }
 ],
 "metadata": {
  "kernelspec": {
   "display_name": "Python 3 (ipykernel)",
   "language": "python",
   "name": "python3"
  },
  "language_info": {
   "codemirror_mode": {
    "name": "ipython",
    "version": 3
   },
   "file_extension": ".py",
   "mimetype": "text/x-python",
   "name": "python",
   "nbconvert_exporter": "python",
   "pygments_lexer": "ipython3",
   "version": "3.12.7"
  }
 },
 "nbformat": 4,
 "nbformat_minor": 5
}
