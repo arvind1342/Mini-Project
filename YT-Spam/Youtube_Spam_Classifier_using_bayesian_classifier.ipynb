{
  "nbformat": 4,
  "nbformat_minor": 0,
  "metadata": {
    "colab": {
      "provenance": []
    },
    "kernelspec": {
      "name": "python3",
      "display_name": "Python 3"
    },
    "language_info": {
      "name": "python"
    }
  },
  "cells": [
    {
      "cell_type": "code",
      "execution_count": null,
      "metadata": {
        "colab": {
          "base_uri": "https://localhost:8080/"
        },
        "id": "Kw8RRITp6AkY",
        "outputId": "21a94fee-413e-46d2-92ed-b9ded3f0114e"
      },
      "outputs": [
        {
          "output_type": "stream",
          "name": "stdout",
          "text": [
            "Classification Report:\n",
            "               precision    recall  f1-score   support\n",
            "\n",
            "           0       0.93      0.96      0.95        27\n",
            "           1       0.98      0.95      0.96        43\n",
            "\n",
            "    accuracy                           0.96        70\n",
            "   macro avg       0.95      0.96      0.96        70\n",
            "weighted avg       0.96      0.96      0.96        70\n",
            "\n",
            "Enter a comment: MrBeast is giving away $10,000! Just visit this site and enter your details!\n",
            "Predicted Class: 0\n"
          ]
        }
      ],
      "source": [
        "import pandas as pd\n",
        "from sklearn.model_selection import train_test_split\n",
        "from sklearn.feature_extraction.text import TfidfVectorizer\n",
        "from sklearn.naive_bayes import MultinomialNB\n",
        "from sklearn.pipeline import make_pipeline\n",
        "from sklearn.metrics import classification_report\n",
        "\n",
        "def load_data(file_path):\n",
        "    df = pd.read_csv(\"Youtube01-Psy.csv\")\n",
        "    return df['CONTENT'], df['CLASS']\n",
        "\n",
        "def train_classifier(X, y):\n",
        "    X_train, X_test, y_train, y_test = train_test_split(X, y, test_size=0.2, random_state=42)\n",
        "    model = make_pipeline(TfidfVectorizer(), MultinomialNB())\n",
        "    model.fit(X_train, y_train)\n",
        "    y_pred = model.predict(X_test)\n",
        "    print(\"Classification Report:\\n\", classification_report(y_test, y_pred))\n",
        "    return model\n",
        "\n",
        "def predict_class(model, comment):\n",
        "    return model.predict([comment])[0]\n",
        "\n",
        "if __name__ == \"__main__\":\n",
        "    file_path = \"Youtube01-Psy.csv\"  # Update with the correct path\n",
        "    X, y = load_data(file_path)\n",
        "    model = train_classifier(X, y)\n",
        "\n",
        "    # Test user input\n",
        "    user_comment = input(\"Enter a comment: \")\n",
        "    predicted_class = predict_class(model, user_comment)\n",
        "    print(f\"Predicted Class: {predicted_class}\")\n"
      ]
    },
    {
      "cell_type": "code",
      "source": [],
      "metadata": {
        "id": "9lWbhZYj6Nql"
      },
      "execution_count": null,
      "outputs": []
    }
  ]
}