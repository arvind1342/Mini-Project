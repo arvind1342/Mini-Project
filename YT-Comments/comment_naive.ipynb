{
 "cells": [
  {
   "cell_type": "code",
   "execution_count": 11,
   "id": "a3847ea8-6324-4925-9ffc-23801a541b21",
   "metadata": {},
   "outputs": [
    {
     "name": "stdout",
     "output_type": "stream",
     "text": [
      "Unique labels in dataset: ['neutral' 'negative' 'positive']\n",
      "Classification Report:\n",
      "               precision    recall  f1-score   support\n",
      "\n",
      "           0       0.82      0.42      0.55       461\n",
      "           1       0.89      0.98      0.94      2287\n",
      "\n",
      "    accuracy                           0.89      2748\n",
      "   macro avg       0.85      0.70      0.74      2748\n",
      "weighted avg       0.88      0.89      0.87      2748\n",
      "\n"
     ]
    },
    {
     "name": "stdin",
     "output_type": "stream",
     "text": [
      "Enter a comment:  i hate this video\n"
     ]
    },
    {
     "name": "stdout",
     "output_type": "stream",
     "text": [
      "The sentiment of the comment is: Positive\n"
     ]
    }
   ],
   "source": [
    "import pandas as pd\n",
    "from sklearn.model_selection import train_test_split\n",
    "from sklearn.feature_extraction.text import CountVectorizer\n",
    "from sklearn.naive_bayes import MultinomialNB\n",
    "from sklearn.metrics import classification_report\n",
    "\n",
    "# Load dataset\n",
    "data = pd.read_csv('YoutubeCommentsDataSet.csv')\n",
    "\n",
    "# Ensure correct column names\n",
    "comment_col = 'comment' if 'comment' in data.columns else data.columns[0]\n",
    "label_col = 'label' if 'label' in data.columns else data.columns[1]\n",
    "\n",
    "# Drop rows with missing values in comment or label\n",
    "data = data.dropna(subset=[comment_col, label_col])\n",
    "\n",
    "# Check unique labels\n",
    "print(\"Unique labels in dataset:\", data[label_col].unique())\n",
    "\n",
    "# Convert labels to integers (Binary classification: Positive=1, Negative=0)\n",
    "label_mapping = {'positive': 1, 'negative': 0}  # Ignore 'neutral' or other labels\n",
    "data = data[data[label_col].isin(label_mapping)]  # Keep only positive & negative comments\n",
    "data[label_col] = data[label_col].map(label_mapping)  # Apply mapping\n",
    "\n",
    "# Extract features (comments) and labels\n",
    "X = data[comment_col].astype(str).tolist()  # Convert to list of strings\n",
    "y = data[label_col].tolist()  # Labels are already integers\n",
    "\n",
    "# Split data into training and testing sets\n",
    "X_train, X_test, y_train, y_test = train_test_split(X, y, test_size=0.2, random_state=42)\n",
    "\n",
    "# Create a Bag-of-Words representation of the text data\n",
    "vectorizer = CountVectorizer()\n",
    "X_train_vec = vectorizer.fit_transform(X_train)\n",
    "X_test_vec = vectorizer.transform(X_test)\n",
    "\n",
    "# Train a Naive Bayes classifier\n",
    "classifier = MultinomialNB()\n",
    "classifier.fit(X_train_vec, y_train)\n",
    "\n",
    "# Make predictions on the test set\n",
    "y_pred = classifier.predict(X_test_vec)\n",
    "\n",
    "# Generate classification report\n",
    "print(\"Classification Report:\\n\", classification_report(y_test, y_pred))\n",
    "\n",
    "# Function to predict sentiment for user input\n",
    "def predict_sentiment(text):\n",
    "    text_vec = vectorizer.transform([text])\n",
    "    prediction = classifier.predict(text_vec)[0]\n",
    "    return \"Positive\" if prediction == 1 else \"Negative\"\n",
    "\n",
    "# User input example\n",
    "user_input = input(\"Enter a comment: \")\n",
    "sentiment = predict_sentiment(user_input)\n",
    "print(f\"The sentiment of the comment is: {sentiment}\")\n"
   ]
  },
  {
   "cell_type": "code",
   "execution_count": null,
   "id": "e04bce87-1543-4636-8b79-ebf3e2ca3742",
   "metadata": {},
   "outputs": [],
   "source": []
  }
 ],
 "metadata": {
  "kernelspec": {
   "display_name": "Python 3 (ipykernel)",
   "language": "python",
   "name": "python3"
  },
  "language_info": {
   "codemirror_mode": {
    "name": "ipython",
    "version": 3
   },
   "file_extension": ".py",
   "mimetype": "text/x-python",
   "name": "python",
   "nbconvert_exporter": "python",
   "pygments_lexer": "ipython3",
   "version": "3.12.7"
  }
 },
 "nbformat": 4,
 "nbformat_minor": 5
}
