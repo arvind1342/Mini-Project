{
  "nbformat": 4,
  "nbformat_minor": 0,
  "metadata": {
    "colab": {
      "provenance": []
    },
    "kernelspec": {
      "name": "python3",
      "display_name": "Python 3"
    },
    "language_info": {
      "name": "python"
    }
  },
  "cells": [
    {
      "cell_type": "code",
      "execution_count": 1,
      "metadata": {
        "colab": {
          "base_uri": "https://localhost:8080/"
        },
        "id": "I1gvbLframeh",
        "outputId": "7e04ee71-3c84-4192-f1dd-d1da3d9f77c9"
      },
      "outputs": [
        {
          "output_type": "stream",
          "name": "stdout",
          "text": [
            "Classification Report:\n",
            "              precision    recall  f1-score   support\n",
            "\n",
            "    negative       0.53      0.35      0.42       441\n",
            "     neutral       0.59      0.60      0.59       912\n",
            "    positive       0.83      0.88      0.85      2320\n",
            "\n",
            "    accuracy                           0.74      3673\n",
            "   macro avg       0.65      0.61      0.62      3673\n",
            "weighted avg       0.73      0.74      0.74      3673\n",
            "\n",
            "Enter a comment: I love this product! It's amazing.\n",
            "Predicted Sentiment: positive\n"
          ]
        }
      ],
      "source": [
        "import pandas as pd\n",
        "import numpy as np\n",
        "from sklearn.model_selection import train_test_split\n",
        "from sklearn.feature_extraction.text import TfidfVectorizer\n",
        "from sklearn.svm import SVC\n",
        "from sklearn.metrics import classification_report\n",
        "\n",
        "# Load the dataset\n",
        "file_path = \"YoutubeCommentsDataSet.csv\"\n",
        "df = pd.read_csv(file_path)\n",
        "\n",
        "# Drop missing values\n",
        "df = df.dropna()\n",
        "\n",
        "# Split data into features and labels\n",
        "X = df[\"Comment\"]\n",
        "y = df[\"Sentiment\"]\n",
        "\n",
        "# Convert text data into numerical vectors\n",
        "vectorizer = TfidfVectorizer(stop_words='english', max_features=5000)\n",
        "X_vectorized = vectorizer.fit_transform(X)\n",
        "\n",
        "# Split the dataset into training and testing sets\n",
        "X_train, X_test, y_train, y_test = train_test_split(X_vectorized, y, test_size=0.2, random_state=42)\n",
        "\n",
        "# Train an SVM model\n",
        "svm_model = SVC(kernel='linear')\n",
        "svm_model.fit(X_train, y_train)\n",
        "\n",
        "# Evaluate the model\n",
        "y_pred = svm_model.predict(X_test)\n",
        "print(\"Classification Report:\")\n",
        "print(classification_report(y_test, y_pred))\n",
        "\n",
        "# Function to classify new comments\n",
        "def classify_comment(comment):\n",
        "    comment_vectorized = vectorizer.transform([comment])\n",
        "    prediction = svm_model.predict(comment_vectorized)\n",
        "    return prediction[0]\n",
        "\n",
        "# Take user input\n",
        "user_comment = input(\"Enter a comment: \")\n",
        "print(\"Predicted Sentiment:\", classify_comment(user_comment))\n"
      ]
    },
    {
      "cell_type": "code",
      "source": [],
      "metadata": {
        "id": "373s8pxJbAoX"
      },
      "execution_count": null,
      "outputs": []
    }
  ]
}