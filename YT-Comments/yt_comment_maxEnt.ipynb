{
  "nbformat": 4,
  "nbformat_minor": 0,
  "metadata": {
    "colab": {
      "provenance": []
    },
    "kernelspec": {
      "name": "python3",
      "display_name": "Python 3"
    },
    "language_info": {
      "name": "python"
    }
  },
  "cells": [
    {
      "cell_type": "code",
      "source": [
        "import pandas as pd\n",
        "import re\n",
        "from nltk.stem import WordNetLemmatizer\n",
        "from sklearn.feature_extraction.text import TfidfVectorizer\n",
        "from sklearn.model_selection import train_test_split\n",
        "from sklearn.linear_model import LogisticRegression\n",
        "from sklearn.metrics import classification_report\n",
        "\n",
        "# Download the 'wordnet' resource for NLTK\n",
        "import nltk\n",
        "nltk.download('wordnet') # This line downloads the necessary resource\n",
        "\n",
        "# Define stopwords manually to avoid downloading NLTK resources\n",
        "STOPWORDS = set([\"the\", \"is\", \"in\", \"it\", \"and\", \"to\", \"a\", \"i\", \"this\", \"that\", \"of\", \"for\", \"on\", \"with\", \"as\", \"was\", \"but\", \"at\", \"by\", \"an\"])\n",
        "\n",
        "def preprocess_text(text):\n",
        "    if not isinstance(text, str):  # Ensure input is a string\n",
        "        return \"\"\n",
        "    # Convert to lowercase\n",
        "    text = text.lower()\n",
        "    # Remove special characters\n",
        "    text = re.sub(r'\\W', ' ', text)\n",
        "    # Tokenization (splitting by spaces)\n",
        "    tokens = text.split()\n",
        "    # Remove stopwords\n",
        "    filtered_tokens = [word for word in tokens if word not in STOPWORDS]\n",
        "    # Lemmatization\n",
        "    lemmatizer = WordNetLemmatizer()\n",
        "    lemmatized_tokens = [lemmatizer.lemmatize(token) for token in filtered_tokens]\n",
        "    return ' '.join(lemmatized_tokens)\n",
        "\n",
        "# Load dataset\n",
        "try:\n",
        "    data = pd.read_csv('https://raw.githubusercontent.com/YashiGarg016/Mini-Project/refs/heads/main/YoutubeCommentsDataSet.csv')\n",
        "    print(\"Dataset loaded successfully.\")\n",
        "except Exception as e:\n",
        "    print(f\"Error loading dataset: {e}\")\n",
        "\n",
        "# Debugging: Print column names and first few rows\n",
        "print(\"Column names:\", data.columns)\n",
        "print(\"First few rows:\\n\", data.head())\n",
        "\n",
        "# Clean and standardize column names\n",
        "data.columns = data.columns.str.strip().str.lower()  # Remove spaces & convert to lowercase\n",
        "\n",
        "# Ensure 'comment' and 'sentiment' columns exist\n",
        "if 'comment' not in data.columns or 'sentiment' not in data.columns:\n",
        "    raise KeyError(\"'comment' or 'sentiment' column not found in dataset.\")\n",
        "\n",
        "# Drop missing comments\n",
        "data = data.dropna(subset=['comment'])\n",
        "\n",
        "# Preprocess the text data and extract labels\n",
        "texts = [preprocess_text(text) for text in data['comment']]\n",
        "labels = data['sentiment'].tolist()\n",
        "\n",
        "# Feature extraction using TF-IDF\n",
        "vectorizer = TfidfVectorizer()\n",
        "X = vectorizer.fit_transform(texts)\n",
        "\n",
        "# Split the data into training and testing sets\n",
        "X_train, X_test, y_train, y_test = train_test_split(X, labels, test_size=0.2, random_state=42)\n",
        "\n",
        "# Train a Maximum Entropy (Logistic Regression) model\n",
        "model = LogisticRegression(max_iter=1000)\n",
        "model.fit(X_train, y_train)\n",
        "\n",
        "# Make predictions on the test set\n",
        "y_pred = model.predict(X_test)\n",
        "\n",
        "# Evaluate the model\n",
        "print(classification_report(y_test, y_pred))\n",
        "\n",
        "def predict_sentiment(text):\n",
        "    processed_text = preprocess_text(text)\n",
        "    vectorized_text = vectorizer.transform([processed_text])\n",
        "    prediction = model.predict(vectorized_text)[0]\n",
        "    return prediction\n",
        "\n",
        "# Example user input\n",
        "user_input = \"I love this product, it's amazing!\"\n",
        "sentiment = predict_sentiment(user_input)\n",
        "print(f\"User input: '{user_input}'\")\n",
        "print(f\"Predicted sentiment: {sentiment}\")\n",
        "\n",
        "user_input = \"The product is terrible.\"\n",
        "sentiment = predict_sentiment(user_input)\n",
        "print(f\"User input: '{user_input}'\")\n",
        "print(f\"Predicted sentiment: {sentiment}\")"
      ],
      "metadata": {
        "colab": {
          "base_uri": "https://localhost:8080/"
        },
        "id": "Fkj8tmakeMr4",
        "outputId": "5d9f0095-5c9a-4457-bd5d-a3dc0a46572d"
      },
      "execution_count": 3,
      "outputs": [
        {
          "output_type": "stream",
          "name": "stderr",
          "text": [
            "[nltk_data] Downloading package wordnet to /root/nltk_data...\n"
          ]
        },
        {
          "output_type": "stream",
          "name": "stdout",
          "text": [
            "Dataset loaded successfully.\n",
            "Column names: Index(['Comment', 'Sentiment'], dtype='object')\n",
            "First few rows:\n",
            "                                              Comment Sentiment\n",
            "0  lets not forget that apple pay in 2014 require...   neutral\n",
            "1  here in nz 50 of retailers don’t even have con...  negative\n",
            "2  i will forever acknowledge this channel with t...  positive\n",
            "3  whenever i go to a place that doesn’t take app...  negative\n",
            "4  apple pay is so convenient secure and easy to ...  positive\n",
            "              precision    recall  f1-score   support\n",
            "\n",
            "    negative       0.64      0.28      0.39       441\n",
            "     neutral       0.65      0.60      0.62       912\n",
            "    positive       0.81      0.92      0.86      2320\n",
            "\n",
            "    accuracy                           0.76      3673\n",
            "   macro avg       0.70      0.60      0.63      3673\n",
            "weighted avg       0.75      0.76      0.75      3673\n",
            "\n",
            "User input: 'I love this product, it's amazing!'\n",
            "Predicted sentiment: positive\n",
            "User input: 'The product is terrible.'\n",
            "Predicted sentiment: negative\n"
          ]
        }
      ]
    }
  ]
}